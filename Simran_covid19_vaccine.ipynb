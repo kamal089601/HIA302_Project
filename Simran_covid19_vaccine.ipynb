{
 "cells": [
  {
   "cell_type": "code",
   "execution_count": null,
   "id": "304d8e71",
   "metadata": {},
   "outputs": [],
   "source": [
    "import pandas as pd\n",
    "import matplotlib.pyplot as plt\n",
    "import seaborn as sns\n",
    "import numpy as np"
   ]
  },
  {
   "cell_type": "code",
   "execution_count": null,
   "id": "da8188b3",
   "metadata": {},
   "outputs": [],
   "source": [
    "# Read dataset for covid19 vaccine\n",
    "df_vaccine = pd.read_csv(\"/Users/atalwar/Desktop/aefi.csv\")"
   ]
  },
  {
   "cell_type": "code",
   "execution_count": null,
   "id": "63e3d072",
   "metadata": {},
   "outputs": [],
   "source": [
    "df_vaccine.head()"
   ]
  },
  {
   "cell_type": "code",
   "execution_count": null,
   "id": "18e5aa07",
   "metadata": {},
   "outputs": [],
   "source": [
    "df_vaccine.dtypes"
   ]
  },
  {
   "cell_type": "code",
   "execution_count": null,
   "id": "1fa3473a",
   "metadata": {
    "scrolled": false
   },
   "outputs": [],
   "source": [
    "# convert date type from object to datetime format\n",
    "df_vaccine['date'] = pd.to_datetime(df_vaccine['date'],format='%Y-%m-%d')\n",
    "df_vaccine.dtypes"
   ]
  },
  {
   "cell_type": "code",
   "execution_count": null,
   "id": "e0c81bd5",
   "metadata": {},
   "outputs": [],
   "source": [
    "#Filter the dates\n",
    "df = df_vaccine.loc[(df_vaccine['date']>='2021-05-05') & (df_vaccine['date']<='2021-10-31')]\n",
    "filtered_data = df.to_csv(\"/Users/atalwar/Desktop/aefi_date.csv\", index = None)"
   ]
  },
  {
   "cell_type": "code",
   "execution_count": null,
   "id": "1f96a6ef",
   "metadata": {},
   "outputs": [],
   "source": [
    "df = pd.read_csv(\"/Users/atalwar/Desktop/aefi_date.csv\")"
   ]
  },
  {
   "cell_type": "code",
   "execution_count": null,
   "id": "62a87f5e",
   "metadata": {
    "scrolled": true
   },
   "outputs": [],
   "source": [
    "# Drop columns which are not needed\n",
    "df= df.drop(df.columns[3:6], axis = 1)\n",
    "df.head()"
   ]
  },
  {
   "cell_type": "markdown",
   "id": "643ef6b6",
   "metadata": {},
   "source": [
    "New Dataset is ready which is to be used for analysis. 26 columns * 540 rows"
   ]
  },
  {
   "cell_type": "code",
   "execution_count": null,
   "id": "d04b05d4",
   "metadata": {},
   "outputs": [],
   "source": [
    "# Total adverse effects of each vaccine over a period of 6 months\n",
    "\n",
    "total_effects = df.groupby('vaxtype')['daily_total'].sum()\n",
    "\n",
    "plt.figure(figsize=(6,4))\n",
    "total_effects.plot(kind='bar', color=['blue', 'green', 'red'])\n",
    "plt.title('Total Adverse Effects Reported by Each Vaccine Type \\n (5th May 2021 to 31st Oct 2021)')\n",
    "plt.xlabel('Vaccine Types')\n",
    "plt.ylabel('Total Adverse Effects')\n",
    "plt.xticks(rotation=0)\n",
    "plt.show()"
   ]
  },
  {
   "cell_type": "code",
   "execution_count": null,
   "id": "8031f0f7",
   "metadata": {},
   "outputs": [],
   "source": [
    "# compare this to total no of vaccines administered during this period. Need total dose administrted data"
   ]
  },
  {
   "cell_type": "code",
   "execution_count": null,
   "id": "f857480f",
   "metadata": {},
   "outputs": [],
   "source": [
    "# each vaccine adverse effects after dose1 and dose2 . Reported by MySJ \n",
    "astrazeneca_data = df[df['vaxtype'] == 'astrazeneca']\n",
    "pfizer_data = df[df['vaxtype'] == 'pfizer']\n",
    "sinovac_data = df[df['vaxtype'] == 'sinovac']\n",
    "\n",
    "def plot_vaccine_bargraph(data, vaccine_name):\n",
    "    total_counts = data[['daily_nonserious_mysj_dose1', 'daily_nonserious_mysj_dose2']].sum()\n",
    "    plt.figure(figsize=(6,4))\n",
    "    plt.bar(['MySJ Dose 1', 'MySJ Dose 2'], total_counts, color=['lightgreen', 'darkgreen'],\n",
    "            width=0.3, label = ['MySJ Dose 1','MySJ Dose 2'])\n",
    "    plt.title(f'Total Adverse Effects reported by MySJ for {vaccine_name}')\n",
    "    plt.xlabel(f'{vaccine_name} Vaccine Doses')\n",
    "    plt.ylabel('Total Count')\n",
    "    plt.legend()\n",
    "    plt.tight_layout()\n",
    "    plt.show()\n",
    "\n",
    "plot_vaccine_bargraph(astrazeneca_data, 'Astrazeneca')\n",
    "plot_vaccine_bargraph(pfizer_data, 'Pfizer')\n",
    "plot_vaccine_bargraph(sinovac_data,'Sinovac')"
   ]
  },
  {
   "cell_type": "code",
   "execution_count": null,
   "id": "4fe4c8a5",
   "metadata": {},
   "outputs": [],
   "source": [
    "#Descriptive Stats\n",
    "def descriptive_stats(data, vaccine_name):\n",
    "    mean_values = data.mean()\n",
    "    median_values = data.median()\n",
    "    std_dev_values = data.std()\n",
    "    return mean_values, median_values, std_dev_values\n",
    "\n",
    "def stats_bar_graph(mean_values, median_values, std_dev_values, vaccine_name):\n",
    "    labels = ['Dose 1', 'Dose 2']\n",
    "    x = range(len(labels))\n",
    "\n",
    "    plt.figure(figsize=(6,4))\n",
    "    plt.bar(x, mean_values, width=0.2, label='Mean', align='center')\n",
    "    plt.bar([i + 0.2 for i in x], median_values, width=0.2, label='Median', align='center')\n",
    "    plt.bar([i + 0.4 for i in x], std_dev_values, width=0.2, label='Standard Deviation', align='center')\n",
    "\n",
    "    plt.xlabel('Vaccine Doses')\n",
    "    plt.ylabel('Values')\n",
    "    plt.title(f'Statistics for Adverse Effects by Dose for {vaccine_name}')\n",
    "    plt.xticks([i + 0.2 for i in x], labels)\n",
    "    plt.legend()\n",
    "    plt.tight_layout()\n",
    "    plt.show()\n",
    "\n",
    "astrazeneca_stats = descriptive_stats(astrazeneca_data[['daily_nonserious_mysj_dose1',\n",
    "                                                        'daily_nonserious_mysj_dose2']], 'Astrazeneca')\n",
    "pfizer_stats = descriptive_stats(pfizer_data[['daily_nonserious_mysj_dose1', \n",
    "                                              'daily_nonserious_mysj_dose2']], 'Pfizer')\n",
    "sinovac_stats = descriptive_stats(sinovac_data[['daily_nonserious_mysj_dose1', \n",
    "                                                'daily_nonserious_mysj_dose2']], 'Sinovac')\n",
    "\n",
    "stats_bar_graph(*astrazeneca_stats, 'Astrazeneca')\n",
    "stats_bar_graph(*pfizer_stats, 'Pfizer')\n",
    "stats_bar_graph(*sinovac_stats, 'Sinovac')"
   ]
  },
  {
   "cell_type": "code",
   "execution_count": null,
   "id": "eb4b8a90",
   "metadata": {},
   "outputs": [],
   "source": [
    "# Box plots\n",
    "def box_plot(data, vaccine_name):\n",
    "    plt.figure(figsize=(6,4))\n",
    "    data.boxplot(column=['daily_nonserious_mysj_dose1', 'daily_nonserious_mysj_dose2'])\n",
    "    plt.title(f'Box Plot of Adverse Effects for {vaccine_name}')\n",
    "    plt.xlabel(f'{vaccine_name} Dose')\n",
    "    plt.ylabel('Count')\n",
    "    plt.xticks([1, 2], ['Dose 1', 'Dose 2'])\n",
    "    plt.show()\n",
    "    \n",
    "box_plot(astrazeneca_data, 'Astrazeneca')\n",
    "box_plot(pfizer_data, 'Pfizer')\n",
    "box_plot(sinovac_data, 'Sinovac')   "
   ]
  },
  {
   "cell_type": "code",
   "execution_count": null,
   "id": "75f508e2",
   "metadata": {},
   "outputs": [],
   "source": [
    "#Dose 1 and 2 effects for each vaccine comparison\n",
    "d1_effects = ['d1_headache', 'd1_muscle_pain', 'd1_joint_pain', 'd1_weakness',\n",
    "              'd1_fever', 'd1_vomiting', 'd1_chills', 'd1_rash']\n",
    "d2_effects = ['d2_headache', 'd2_muscle_pain', 'd2_joint_pain', 'd2_weakness',\n",
    "              'd2_fever', 'd2_vomiting', 'd2_chills', 'd2_rash']\n",
    "effects = ['headach','muscle_pain','joint_pain','weakness','fever','vomiting','chills','rash']\n",
    "\n",
    "def plot_effects(data, vaccine_name):\n",
    "    total_d1_effects = data[d1_effects].sum()\n",
    "    total_d2_effects = data[d2_effects].sum()\n",
    "    plt.figure(figsize=(6,4))\n",
    "    bar_width = 0.35\n",
    "    index = range(len(d1_effects))\n",
    "    plt.bar([x - bar_width/2 for x in index],total_d1_effects, width=bar_width,color='skyblue', label='Dose 1')\n",
    "    plt.bar([x + bar_width/2 for x in index],total_d2_effects, width=bar_width,color='green', label='Dose 2')\n",
    "    plt.title(f'Dose 1 Adverse Effects for {vaccine_name}')\n",
    "    plt.xlabel('Adverse Effects')\n",
    "    plt.ylabel('Total Count')\n",
    "    plt.xticks(index,effects,rotation=45)\n",
    "    plt.legend()\n",
    "    plt.tight_layout()\n",
    "    plt.show()\n",
    "    \n",
    "plot_effects(astrazeneca_data, 'Astrazeneca') \n",
    "plot_effects(astrazeneca_data, 'Pfizer') \n",
    "plot_effects(astrazeneca_data, 'Sinovac')"
   ]
  },
  {
   "cell_type": "code",
   "execution_count": null,
   "id": "cc06a78a",
   "metadata": {},
   "outputs": [],
   "source": [
    "#Monthly trend of each vaccine\n",
    "df['month'] = pd.DatetimeIndex(df['date']).month\n",
    "monthly_totals = df.groupby([df['month'], 'vaxtype']).sum().unstack()\n",
    "plt.figure(figsize=(8,6))\n",
    "plt.plot(monthly_totals.index, monthly_totals['daily_total']['astrazeneca'],\n",
    "         label='Astrazeneca', marker='o')\n",
    "plt.plot(monthly_totals.index, monthly_totals['daily_total']['pfizer'],\n",
    "         label='Pfizer', marker='o')\n",
    "plt.plot(monthly_totals.index, monthly_totals['daily_total']['sinovac'],\n",
    "         label='Sinovac', marker='o')\n",
    "plt.title('Monthly Trend of Adverse Effects Reported for Each Vaccine Type')\n",
    "plt.xlabel('Month')\n",
    "plt.ylabel('Monthly Total Adverse Effects')\n",
    "plt.legend()\n",
    "plt.xticks(rotation=45)\n",
    "plt.tight_layout()\n",
    "plt.show()"
   ]
  },
  {
   "cell_type": "code",
   "execution_count": null,
   "id": "edea7955",
   "metadata": {},
   "outputs": [],
   "source": [
    "#correlation by scatter plot\n",
    "plt.scatter(d1_effects,d2_effects)\n",
    "plt.title(\"Correlation by scatter plot\")\n",
    "plt.xlabel('Dose 1 effects')\n",
    "plt.ylabel('Dose 2 effects')\n",
    "plt.xticks(rotation = 45)\n",
    "plt.show()\n"
   ]
  },
  {
   "cell_type": "code",
   "execution_count": null,
   "id": "073ef343",
   "metadata": {},
   "outputs": [],
   "source": [
    "#Hypothesis testing to check if there is significant difference between the vaccines.\n"
   ]
  },
  {
   "cell_type": "code",
   "execution_count": null,
   "id": "acf2901d",
   "metadata": {},
   "outputs": [],
   "source": [
    "print(total_effects)\n",
    "total_effects_df = total_effects.reset_index()\n",
    "total_effects_df.columns = ['vaxtype', 'daily_total']"
   ]
  },
  {
   "cell_type": "code",
   "execution_count": null,
   "id": "00509c69",
   "metadata": {},
   "outputs": [],
   "source": [
    "from scipy.stats import kruskal\n",
    "\n",
    "# Example using Kruskal-Wallis H-test\n",
    "group_a = total_effects_df[total_effects_df['vaxtype'] == 'astrazeneca']['daily_total']\n",
    "group_b = total_effects_df[total_effects_df['vaxtype'] == 'pfizer']['daily_total']\n",
    "group_c = total_effects_df[total_effects_df['vaxtype'] == 'sinovac']['daily_total']\n",
    "\n",
    "kruskal_stat, p_value = kruskal(group_a, group_b, group_c)\n",
    "print(f\"Kruskal-Wallis H-test statistic: {kruskal_stat}\")\n",
    "print(f\"P-value: {p_value}\")"
   ]
  },
  {
   "cell_type": "code",
   "execution_count": null,
   "id": "f67e7e63",
   "metadata": {},
   "outputs": [],
   "source": [
    "# As p value is >0.05 we fail to reject null hypothesis. therefore,\n",
    "# There might not be a significant differences between the groups regarding the total effects for the .05 significance level.\n"
   ]
  },
  {
   "cell_type": "code",
   "execution_count": null,
   "id": "08ba07e6",
   "metadata": {},
   "outputs": [],
   "source": []
  },
  {
   "cell_type": "code",
   "execution_count": null,
   "id": "4d4b1cdb",
   "metadata": {},
   "outputs": [],
   "source": []
  },
  {
   "cell_type": "code",
   "execution_count": null,
   "id": "4df8a407",
   "metadata": {},
   "outputs": [],
   "source": []
  },
  {
   "cell_type": "code",
   "execution_count": null,
   "id": "dcfe1c81",
   "metadata": {},
   "outputs": [],
   "source": []
  },
  {
   "cell_type": "code",
   "execution_count": null,
   "id": "7ef568c7",
   "metadata": {},
   "outputs": [],
   "source": []
  },
  {
   "cell_type": "code",
   "execution_count": null,
   "id": "1cb30ca7",
   "metadata": {},
   "outputs": [],
   "source": []
  },
  {
   "cell_type": "code",
   "execution_count": null,
   "id": "6e8daffd",
   "metadata": {},
   "outputs": [],
   "source": []
  },
  {
   "cell_type": "code",
   "execution_count": null,
   "id": "140dd51b",
   "metadata": {},
   "outputs": [],
   "source": []
  },
  {
   "cell_type": "code",
   "execution_count": null,
   "id": "c54557cc",
   "metadata": {},
   "outputs": [],
   "source": []
  },
  {
   "cell_type": "code",
   "execution_count": null,
   "id": "e97a6ddc",
   "metadata": {},
   "outputs": [],
   "source": []
  },
  {
   "cell_type": "code",
   "execution_count": null,
   "id": "7add1f90",
   "metadata": {},
   "outputs": [],
   "source": []
  },
  {
   "cell_type": "code",
   "execution_count": null,
   "id": "d42f54e3",
   "metadata": {},
   "outputs": [],
   "source": []
  },
  {
   "cell_type": "code",
   "execution_count": null,
   "id": "932b8ecc",
   "metadata": {},
   "outputs": [],
   "source": []
  },
  {
   "cell_type": "code",
   "execution_count": null,
   "id": "dc9cd160",
   "metadata": {},
   "outputs": [],
   "source": []
  },
  {
   "cell_type": "code",
   "execution_count": null,
   "id": "eb2f9a04",
   "metadata": {},
   "outputs": [],
   "source": []
  },
  {
   "cell_type": "code",
   "execution_count": null,
   "id": "612ca348",
   "metadata": {},
   "outputs": [],
   "source": []
  },
  {
   "cell_type": "code",
   "execution_count": null,
   "id": "ed7a29a5",
   "metadata": {},
   "outputs": [],
   "source": []
  },
  {
   "cell_type": "code",
   "execution_count": null,
   "id": "2fee062c",
   "metadata": {},
   "outputs": [],
   "source": []
  },
  {
   "cell_type": "code",
   "execution_count": null,
   "id": "f5cba6b2",
   "metadata": {},
   "outputs": [],
   "source": [
    "\n"
   ]
  },
  {
   "cell_type": "code",
   "execution_count": null,
   "id": "4559d13f",
   "metadata": {},
   "outputs": [],
   "source": []
  },
  {
   "cell_type": "code",
   "execution_count": null,
   "id": "16a7f598",
   "metadata": {},
   "outputs": [],
   "source": []
  },
  {
   "cell_type": "code",
   "execution_count": null,
   "id": "13c8cb87",
   "metadata": {},
   "outputs": [],
   "source": []
  },
  {
   "cell_type": "code",
   "execution_count": null,
   "id": "e32be91b",
   "metadata": {},
   "outputs": [],
   "source": []
  },
  {
   "cell_type": "code",
   "execution_count": null,
   "id": "513a7e0b",
   "metadata": {},
   "outputs": [],
   "source": []
  },
  {
   "cell_type": "code",
   "execution_count": null,
   "id": "6d49dabc",
   "metadata": {},
   "outputs": [],
   "source": []
  },
  {
   "cell_type": "code",
   "execution_count": null,
   "id": "56429e9a",
   "metadata": {},
   "outputs": [],
   "source": []
  },
  {
   "cell_type": "code",
   "execution_count": null,
   "id": "318433a7",
   "metadata": {},
   "outputs": [],
   "source": []
  },
  {
   "cell_type": "code",
   "execution_count": null,
   "id": "51688412",
   "metadata": {},
   "outputs": [],
   "source": []
  },
  {
   "cell_type": "code",
   "execution_count": null,
   "id": "73407add",
   "metadata": {},
   "outputs": [],
   "source": []
  },
  {
   "cell_type": "code",
   "execution_count": null,
   "id": "5c49752d",
   "metadata": {},
   "outputs": [],
   "source": []
  },
  {
   "cell_type": "code",
   "execution_count": null,
   "id": "373595d2",
   "metadata": {},
   "outputs": [],
   "source": []
  },
  {
   "cell_type": "code",
   "execution_count": null,
   "id": "884d8142",
   "metadata": {},
   "outputs": [],
   "source": []
  },
  {
   "cell_type": "code",
   "execution_count": null,
   "id": "efab29b2",
   "metadata": {},
   "outputs": [],
   "source": []
  },
  {
   "cell_type": "code",
   "execution_count": null,
   "id": "0c7da7fb",
   "metadata": {},
   "outputs": [],
   "source": []
  },
  {
   "cell_type": "code",
   "execution_count": null,
   "id": "74326443",
   "metadata": {},
   "outputs": [],
   "source": []
  },
  {
   "cell_type": "code",
   "execution_count": null,
   "id": "4d36c9a9",
   "metadata": {},
   "outputs": [],
   "source": []
  },
  {
   "cell_type": "code",
   "execution_count": null,
   "id": "d1a2cfd8",
   "metadata": {},
   "outputs": [],
   "source": []
  },
  {
   "cell_type": "code",
   "execution_count": null,
   "id": "7020f8c4",
   "metadata": {},
   "outputs": [],
   "source": []
  },
  {
   "cell_type": "code",
   "execution_count": null,
   "id": "a9503172",
   "metadata": {},
   "outputs": [],
   "source": []
  },
  {
   "cell_type": "code",
   "execution_count": null,
   "id": "a7b13764",
   "metadata": {},
   "outputs": [],
   "source": []
  },
  {
   "cell_type": "code",
   "execution_count": null,
   "id": "38c38556",
   "metadata": {},
   "outputs": [],
   "source": []
  },
  {
   "cell_type": "code",
   "execution_count": null,
   "id": "f714a5d5",
   "metadata": {},
   "outputs": [],
   "source": []
  },
  {
   "cell_type": "code",
   "execution_count": null,
   "id": "0f236200",
   "metadata": {},
   "outputs": [],
   "source": []
  },
  {
   "cell_type": "code",
   "execution_count": null,
   "id": "20323f06",
   "metadata": {},
   "outputs": [],
   "source": []
  },
  {
   "cell_type": "code",
   "execution_count": null,
   "id": "de4715e4",
   "metadata": {},
   "outputs": [],
   "source": []
  },
  {
   "cell_type": "code",
   "execution_count": null,
   "id": "db76e258",
   "metadata": {},
   "outputs": [],
   "source": []
  },
  {
   "cell_type": "code",
   "execution_count": null,
   "id": "12f99fd0",
   "metadata": {},
   "outputs": [],
   "source": []
  },
  {
   "cell_type": "code",
   "execution_count": null,
   "id": "ccd5e8fc",
   "metadata": {},
   "outputs": [],
   "source": []
  },
  {
   "cell_type": "code",
   "execution_count": null,
   "id": "56a5bc06",
   "metadata": {},
   "outputs": [],
   "source": []
  },
  {
   "cell_type": "code",
   "execution_count": null,
   "id": "e83d1b36",
   "metadata": {},
   "outputs": [],
   "source": []
  },
  {
   "cell_type": "code",
   "execution_count": null,
   "id": "23c8dd4a",
   "metadata": {},
   "outputs": [],
   "source": []
  },
  {
   "cell_type": "code",
   "execution_count": null,
   "id": "1c3afb54",
   "metadata": {},
   "outputs": [],
   "source": []
  },
  {
   "cell_type": "code",
   "execution_count": null,
   "id": "602b6ea7",
   "metadata": {},
   "outputs": [],
   "source": []
  },
  {
   "cell_type": "code",
   "execution_count": null,
   "id": "a9122fe2",
   "metadata": {},
   "outputs": [],
   "source": []
  },
  {
   "cell_type": "code",
   "execution_count": null,
   "id": "ad3e9010",
   "metadata": {},
   "outputs": [],
   "source": []
  },
  {
   "cell_type": "code",
   "execution_count": null,
   "id": "6a92cbdb",
   "metadata": {},
   "outputs": [],
   "source": []
  },
  {
   "cell_type": "code",
   "execution_count": null,
   "id": "3ee0722b",
   "metadata": {},
   "outputs": [],
   "source": []
  },
  {
   "cell_type": "code",
   "execution_count": null,
   "id": "f034b755",
   "metadata": {},
   "outputs": [],
   "source": []
  },
  {
   "cell_type": "code",
   "execution_count": null,
   "id": "098304fb",
   "metadata": {},
   "outputs": [],
   "source": []
  },
  {
   "cell_type": "code",
   "execution_count": null,
   "id": "219988a1",
   "metadata": {},
   "outputs": [],
   "source": []
  },
  {
   "cell_type": "code",
   "execution_count": null,
   "id": "7841a016",
   "metadata": {},
   "outputs": [],
   "source": []
  },
  {
   "cell_type": "code",
   "execution_count": null,
   "id": "7db9710b",
   "metadata": {},
   "outputs": [],
   "source": []
  },
  {
   "cell_type": "code",
   "execution_count": null,
   "id": "6930891d",
   "metadata": {},
   "outputs": [],
   "source": []
  },
  {
   "cell_type": "code",
   "execution_count": null,
   "id": "59c3e9ad",
   "metadata": {},
   "outputs": [],
   "source": []
  },
  {
   "cell_type": "code",
   "execution_count": null,
   "id": "1c8d158c",
   "metadata": {},
   "outputs": [],
   "source": []
  },
  {
   "cell_type": "code",
   "execution_count": null,
   "id": "af1a80bb",
   "metadata": {},
   "outputs": [],
   "source": []
  },
  {
   "cell_type": "code",
   "execution_count": null,
   "id": "06f3ace8",
   "metadata": {},
   "outputs": [],
   "source": []
  },
  {
   "cell_type": "code",
   "execution_count": null,
   "id": "9c8ed5c0",
   "metadata": {},
   "outputs": [],
   "source": []
  },
  {
   "cell_type": "code",
   "execution_count": null,
   "id": "a7dbc303",
   "metadata": {},
   "outputs": [],
   "source": []
  },
  {
   "cell_type": "code",
   "execution_count": null,
   "id": "8e4e0ec6",
   "metadata": {},
   "outputs": [],
   "source": []
  },
  {
   "cell_type": "code",
   "execution_count": null,
   "id": "8fda196d",
   "metadata": {},
   "outputs": [],
   "source": []
  },
  {
   "cell_type": "code",
   "execution_count": null,
   "id": "d05e720f",
   "metadata": {},
   "outputs": [],
   "source": []
  },
  {
   "cell_type": "code",
   "execution_count": null,
   "id": "352ae63e",
   "metadata": {},
   "outputs": [],
   "source": []
  },
  {
   "cell_type": "code",
   "execution_count": null,
   "id": "cf70a986",
   "metadata": {},
   "outputs": [],
   "source": []
  },
  {
   "cell_type": "code",
   "execution_count": null,
   "id": "8431a1c8",
   "metadata": {},
   "outputs": [],
   "source": []
  },
  {
   "cell_type": "code",
   "execution_count": null,
   "id": "5d614a92",
   "metadata": {},
   "outputs": [],
   "source": []
  },
  {
   "cell_type": "code",
   "execution_count": null,
   "id": "ff57d276",
   "metadata": {},
   "outputs": [],
   "source": []
  },
  {
   "cell_type": "code",
   "execution_count": null,
   "id": "39001c14",
   "metadata": {},
   "outputs": [],
   "source": []
  },
  {
   "cell_type": "code",
   "execution_count": null,
   "id": "bbcfee70",
   "metadata": {},
   "outputs": [],
   "source": []
  },
  {
   "cell_type": "code",
   "execution_count": null,
   "id": "66caeb5a",
   "metadata": {},
   "outputs": [],
   "source": []
  },
  {
   "cell_type": "code",
   "execution_count": null,
   "id": "e9ea0169",
   "metadata": {},
   "outputs": [],
   "source": []
  },
  {
   "cell_type": "code",
   "execution_count": null,
   "id": "6a8163cf",
   "metadata": {},
   "outputs": [],
   "source": []
  },
  {
   "cell_type": "code",
   "execution_count": null,
   "id": "c01a31f9",
   "metadata": {},
   "outputs": [],
   "source": []
  },
  {
   "cell_type": "code",
   "execution_count": null,
   "id": "de87ec8d",
   "metadata": {},
   "outputs": [],
   "source": []
  },
  {
   "cell_type": "code",
   "execution_count": null,
   "id": "1f4a062f",
   "metadata": {},
   "outputs": [],
   "source": []
  },
  {
   "cell_type": "code",
   "execution_count": null,
   "id": "0a333e21",
   "metadata": {},
   "outputs": [],
   "source": []
  },
  {
   "cell_type": "code",
   "execution_count": null,
   "id": "a3bf3458",
   "metadata": {},
   "outputs": [],
   "source": []
  },
  {
   "cell_type": "code",
   "execution_count": null,
   "id": "b9800e94",
   "metadata": {},
   "outputs": [],
   "source": []
  },
  {
   "cell_type": "code",
   "execution_count": null,
   "id": "f2dda38e",
   "metadata": {},
   "outputs": [],
   "source": []
  },
  {
   "cell_type": "code",
   "execution_count": null,
   "id": "2da36f32",
   "metadata": {},
   "outputs": [],
   "source": []
  },
  {
   "cell_type": "code",
   "execution_count": null,
   "id": "7b890464",
   "metadata": {},
   "outputs": [],
   "source": []
  },
  {
   "cell_type": "code",
   "execution_count": null,
   "id": "dcc61fcd",
   "metadata": {},
   "outputs": [],
   "source": []
  },
  {
   "cell_type": "code",
   "execution_count": null,
   "id": "f4b0f226",
   "metadata": {},
   "outputs": [],
   "source": []
  },
  {
   "cell_type": "code",
   "execution_count": null,
   "id": "285c66df",
   "metadata": {},
   "outputs": [],
   "source": []
  },
  {
   "cell_type": "code",
   "execution_count": null,
   "id": "b54a2cef",
   "metadata": {},
   "outputs": [],
   "source": []
  },
  {
   "cell_type": "code",
   "execution_count": null,
   "id": "ac79f8a3",
   "metadata": {},
   "outputs": [],
   "source": []
  },
  {
   "cell_type": "code",
   "execution_count": null,
   "id": "2ec5abc6",
   "metadata": {},
   "outputs": [],
   "source": []
  },
  {
   "cell_type": "code",
   "execution_count": null,
   "id": "a6570e7f",
   "metadata": {},
   "outputs": [],
   "source": []
  },
  {
   "cell_type": "code",
   "execution_count": null,
   "id": "63ad7379",
   "metadata": {},
   "outputs": [],
   "source": []
  },
  {
   "cell_type": "code",
   "execution_count": null,
   "id": "cd02f9c8",
   "metadata": {},
   "outputs": [],
   "source": []
  },
  {
   "cell_type": "code",
   "execution_count": null,
   "id": "45bf9409",
   "metadata": {},
   "outputs": [],
   "source": []
  },
  {
   "cell_type": "code",
   "execution_count": null,
   "id": "ab48707f",
   "metadata": {},
   "outputs": [],
   "source": []
  },
  {
   "cell_type": "code",
   "execution_count": null,
   "id": "8158862d",
   "metadata": {},
   "outputs": [],
   "source": []
  },
  {
   "cell_type": "code",
   "execution_count": null,
   "id": "78f9a085",
   "metadata": {},
   "outputs": [],
   "source": []
  },
  {
   "cell_type": "code",
   "execution_count": null,
   "id": "04425fbc",
   "metadata": {},
   "outputs": [],
   "source": []
  },
  {
   "cell_type": "code",
   "execution_count": null,
   "id": "26572374",
   "metadata": {},
   "outputs": [],
   "source": []
  },
  {
   "cell_type": "code",
   "execution_count": null,
   "id": "96e7425d",
   "metadata": {},
   "outputs": [],
   "source": []
  },
  {
   "cell_type": "code",
   "execution_count": null,
   "id": "cc5be029",
   "metadata": {},
   "outputs": [],
   "source": []
  },
  {
   "cell_type": "code",
   "execution_count": null,
   "id": "64e70a55",
   "metadata": {},
   "outputs": [],
   "source": []
  },
  {
   "cell_type": "code",
   "execution_count": null,
   "id": "6fd8b56f",
   "metadata": {},
   "outputs": [],
   "source": []
  },
  {
   "cell_type": "code",
   "execution_count": null,
   "id": "240e5400",
   "metadata": {},
   "outputs": [],
   "source": []
  },
  {
   "cell_type": "code",
   "execution_count": null,
   "id": "d228e257",
   "metadata": {},
   "outputs": [],
   "source": []
  },
  {
   "cell_type": "code",
   "execution_count": null,
   "id": "7925172a",
   "metadata": {},
   "outputs": [],
   "source": []
  },
  {
   "cell_type": "code",
   "execution_count": null,
   "id": "4f076b1b",
   "metadata": {},
   "outputs": [],
   "source": []
  },
  {
   "cell_type": "code",
   "execution_count": null,
   "id": "f013dcdd",
   "metadata": {},
   "outputs": [],
   "source": []
  },
  {
   "cell_type": "code",
   "execution_count": null,
   "id": "7f53a97f",
   "metadata": {},
   "outputs": [],
   "source": []
  },
  {
   "cell_type": "code",
   "execution_count": null,
   "id": "b152de45",
   "metadata": {},
   "outputs": [],
   "source": []
  },
  {
   "cell_type": "code",
   "execution_count": null,
   "id": "8d2c811e",
   "metadata": {},
   "outputs": [],
   "source": []
  },
  {
   "cell_type": "code",
   "execution_count": null,
   "id": "f88e3882",
   "metadata": {},
   "outputs": [],
   "source": []
  },
  {
   "cell_type": "code",
   "execution_count": null,
   "id": "3524d607",
   "metadata": {},
   "outputs": [],
   "source": []
  },
  {
   "cell_type": "code",
   "execution_count": null,
   "id": "4499630e",
   "metadata": {},
   "outputs": [],
   "source": []
  },
  {
   "cell_type": "code",
   "execution_count": null,
   "id": "4a5952fc",
   "metadata": {},
   "outputs": [],
   "source": []
  },
  {
   "cell_type": "code",
   "execution_count": null,
   "id": "3228993b",
   "metadata": {},
   "outputs": [],
   "source": []
  },
  {
   "cell_type": "code",
   "execution_count": null,
   "id": "8fb13634",
   "metadata": {},
   "outputs": [],
   "source": []
  },
  {
   "cell_type": "code",
   "execution_count": null,
   "id": "0e05ff84",
   "metadata": {},
   "outputs": [],
   "source": []
  },
  {
   "cell_type": "code",
   "execution_count": null,
   "id": "1d24d4e8",
   "metadata": {},
   "outputs": [],
   "source": []
  },
  {
   "cell_type": "code",
   "execution_count": null,
   "id": "d32ce368",
   "metadata": {},
   "outputs": [],
   "source": []
  },
  {
   "cell_type": "code",
   "execution_count": null,
   "id": "166f4fe0",
   "metadata": {},
   "outputs": [],
   "source": []
  }
 ],
 "metadata": {
  "kernelspec": {
   "display_name": "Python 3 (ipykernel)",
   "language": "python",
   "name": "python3"
  },
  "language_info": {
   "codemirror_mode": {
    "name": "ipython",
    "version": 3
   },
   "file_extension": ".py",
   "mimetype": "text/x-python",
   "name": "python",
   "nbconvert_exporter": "python",
   "pygments_lexer": "ipython3",
   "version": "3.11.4"
  }
 },
 "nbformat": 4,
 "nbformat_minor": 5
}
